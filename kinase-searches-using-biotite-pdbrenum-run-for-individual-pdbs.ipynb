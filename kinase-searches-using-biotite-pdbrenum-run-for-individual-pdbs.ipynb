{
 "cells": [
  {
   "cell_type": "code",
   "execution_count": 1,
   "id": "b83a0775",
   "metadata": {},
   "outputs": [],
   "source": [
    "#!pip install biotite\n",
    "import biotite as bt\n",
    "import biotite.database.rcsb as rcsb\n",
    "import requests\n",
    "import os\n",
    "import gzip\n",
    "import io\n",
    "import shutil"
   ]
  },
  {
   "cell_type": "code",
   "execution_count": 2,
   "id": "10b5f25c",
   "metadata": {},
   "outputs": [
    {
     "ename": "RequestError",
     "evalue": "Error 404: HTTP 404 Not Found",
     "output_type": "error",
     "traceback": [
      "\u001b[1;31m---------------------------------------------------------------------------\u001b[0m",
      "\u001b[1;31mRequestError\u001b[0m                              Traceback (most recent call last)",
      "\u001b[1;32mC:\\Users\\ARANGA~1\\AppData\\Local\\Temp/ipykernel_4980/1115162578.py\u001b[0m in \u001b[0;36m<module>\u001b[1;34m\u001b[0m\n\u001b[0;32m      3\u001b[0m \u001b[0mquery2\u001b[0m \u001b[1;33m=\u001b[0m \u001b[0mrcsb\u001b[0m\u001b[1;33m.\u001b[0m\u001b[0mFieldQuery\u001b[0m\u001b[1;33m(\u001b[0m\u001b[1;34m\"reflns.d_resolution_high\"\u001b[0m\u001b[1;33m,\u001b[0m \u001b[0mless\u001b[0m\u001b[1;33m=\u001b[0m\u001b[1;36m2.5\u001b[0m\u001b[1;33m)\u001b[0m\u001b[1;33m\u001b[0m\u001b[1;33m\u001b[0m\u001b[0m\n\u001b[0;32m      4\u001b[0m \u001b[0mfinal_query\u001b[0m \u001b[1;33m=\u001b[0m \u001b[0mquery1\u001b[0m \u001b[1;33m&\u001b[0m \u001b[0mquery2\u001b[0m\u001b[1;33m\u001b[0m\u001b[1;33m\u001b[0m\u001b[0m\n\u001b[1;32m----> 5\u001b[1;33m \u001b[0mRET_pdb_ids\u001b[0m \u001b[1;33m=\u001b[0m \u001b[0mrcsb\u001b[0m\u001b[1;33m.\u001b[0m\u001b[0msearch\u001b[0m\u001b[1;33m(\u001b[0m\u001b[0mfinal_query\u001b[0m\u001b[1;33m)\u001b[0m\u001b[1;33m\u001b[0m\u001b[1;33m\u001b[0m\u001b[0m\n\u001b[0m\u001b[0;32m      6\u001b[0m \u001b[0mprint\u001b[0m\u001b[1;33m(\u001b[0m\u001b[0mRET_pdb_ids\u001b[0m\u001b[1;33m)\u001b[0m\u001b[1;33m\u001b[0m\u001b[1;33m\u001b[0m\u001b[0m\n",
      "\u001b[1;32m~\\Anaconda3\\lib\\site-packages\\biotite\\database\\rcsb\\query.py\u001b[0m in \u001b[0;36msearch\u001b[1;34m(query, return_type, range, sort_by)\u001b[0m\n\u001b[0;32m    570\u001b[0m     \u001b[1;32mif\u001b[0m \u001b[0mrange\u001b[0m \u001b[1;32mis\u001b[0m \u001b[1;32mNone\u001b[0m\u001b[1;33m:\u001b[0m\u001b[1;33m\u001b[0m\u001b[1;33m\u001b[0m\u001b[0m\n\u001b[0;32m    571\u001b[0m         \u001b[0mstart\u001b[0m \u001b[1;33m=\u001b[0m \u001b[1;36m0\u001b[0m\u001b[1;33m\u001b[0m\u001b[1;33m\u001b[0m\u001b[0m\n\u001b[1;32m--> 572\u001b[1;33m         \u001b[0mrows\u001b[0m \u001b[1;33m=\u001b[0m \u001b[0mcount\u001b[0m\u001b[1;33m(\u001b[0m\u001b[0mquery\u001b[0m\u001b[1;33m,\u001b[0m \u001b[0mreturn_type\u001b[0m\u001b[1;33m=\u001b[0m\u001b[0mreturn_type\u001b[0m\u001b[1;33m)\u001b[0m\u001b[1;33m\u001b[0m\u001b[1;33m\u001b[0m\u001b[0m\n\u001b[0m\u001b[0;32m    573\u001b[0m     \u001b[1;32melif\u001b[0m \u001b[0mrange\u001b[0m\u001b[1;33m[\u001b[0m\u001b[1;36m1\u001b[0m\u001b[1;33m]\u001b[0m \u001b[1;33m<=\u001b[0m \u001b[0mrange\u001b[0m\u001b[1;33m[\u001b[0m\u001b[1;36m0\u001b[0m\u001b[1;33m]\u001b[0m\u001b[1;33m:\u001b[0m\u001b[1;33m\u001b[0m\u001b[1;33m\u001b[0m\u001b[0m\n\u001b[0;32m    574\u001b[0m         \u001b[1;32mraise\u001b[0m \u001b[0mValueError\u001b[0m\u001b[1;33m(\u001b[0m\u001b[1;34m\"Range stop must be greater than range start\"\u001b[0m\u001b[1;33m)\u001b[0m\u001b[1;33m\u001b[0m\u001b[1;33m\u001b[0m\u001b[0m\n",
      "\u001b[1;32m~\\Anaconda3\\lib\\site-packages\\biotite\\database\\rcsb\\query.py\u001b[0m in \u001b[0;36mcount\u001b[1;34m(query, return_type)\u001b[0m\n\u001b[0;32m    496\u001b[0m     \u001b[1;32melse\u001b[0m\u001b[1;33m:\u001b[0m\u001b[1;33m\u001b[0m\u001b[1;33m\u001b[0m\u001b[0m\n\u001b[0;32m    497\u001b[0m         \u001b[1;32mtry\u001b[0m\u001b[1;33m:\u001b[0m\u001b[1;33m\u001b[0m\u001b[1;33m\u001b[0m\u001b[0m\n\u001b[1;32m--> 498\u001b[1;33m             \u001b[1;32mraise\u001b[0m \u001b[0mRequestError\u001b[0m\u001b[1;33m(\u001b[0m\u001b[1;34mf\"Error {r.status_code}: {r.json()['message']}\"\u001b[0m\u001b[1;33m)\u001b[0m\u001b[1;33m\u001b[0m\u001b[1;33m\u001b[0m\u001b[0m\n\u001b[0m\u001b[0;32m    499\u001b[0m         \u001b[1;32mexcept\u001b[0m \u001b[0mjson\u001b[0m\u001b[1;33m.\u001b[0m\u001b[0mdecoder\u001b[0m\u001b[1;33m.\u001b[0m\u001b[0mJSONDecodeError\u001b[0m\u001b[1;33m:\u001b[0m\u001b[1;33m\u001b[0m\u001b[1;33m\u001b[0m\u001b[0m\n\u001b[0;32m    500\u001b[0m             \u001b[1;31m# In case there an error response without message\u001b[0m\u001b[1;33m\u001b[0m\u001b[1;33m\u001b[0m\u001b[0m\n",
      "\u001b[1;31mRequestError\u001b[0m: Error 404: HTTP 404 Not Found"
     ]
    }
   ],
   "source": [
    "# RET: P07949 (RET_HUMAN)\n",
    "query1 = rcsb.FieldQuery(\"rcsb_polymer_entity_container_identifiers.reference_sequence_identifiers.database_accession\", exact_match ='P07333')\n",
    "query2 = rcsb.FieldQuery(\"reflns.d_resolution_high\", less=2.5)\n",
    "final_query = query1 & query2\n",
    "RET_pdb_ids = rcsb.search(final_query)\n",
    "print(RET_pdb_ids)"
   ]
  },
  {
   "cell_type": "code",
   "execution_count": null,
   "id": "13c7fa4a",
   "metadata": {},
   "outputs": [],
   "source": [
    "os.getcwd()"
   ]
  },
  {
   "cell_type": "code",
   "execution_count": null,
   "id": "fd3d1af8",
   "metadata": {},
   "outputs": [],
   "source": [
    "#passing pdb that i want to download as a list :\n",
    "RET_pdb_ids =['2wqb']"
   ]
  },
  {
   "cell_type": "code",
   "execution_count": null,
   "id": "836b0bd5",
   "metadata": {},
   "outputs": [],
   "source": [
    "#downloading the structures from pdbrenum in .gz format\n",
    "for id in RET_pdb_ids:\n",
    "    download_url_prefix = 'http://dunbrack3.fccc.edu/PDBrenum/output_PDB/'\n",
    "    download_url_suffix = '_renum.pdb.gz'\n",
    "    pdb_id = id.lower()\n",
    "    print(pdb_id)\n",
    "    download_url = download_url_prefix + pdb_id + download_url_suffix\n",
    "    print(download_url)\n",
    "    response = requests.get(download_url)\n",
    "    print(response.status_code)\n",
    "    fname = pdb_id + '.pdb.gz'\n",
    "    with open(fname, 'wb') as f:\n",
    "        f.write(response.content)\n",
    "    print(f'completed writing {fname}..')"
   ]
  },
  {
   "cell_type": "code",
   "execution_count": null,
   "id": "f2e138f0",
   "metadata": {},
   "outputs": [],
   "source": [
    "all = os.listdir()\n",
    "for f in all:\n",
    "    if f.endswith('.pdb.gz'):\n",
    "        try:\n",
    "            with gzip.open(f, 'rb') as ip:\n",
    "                with io.TextIOWrapper(ip, encoding='utf-8') as decoder:\n",
    "                    # Let's read the content using read()\n",
    "                    content = decoder.read()\n",
    "                    #base = f[:-4]\n",
    "                    fname = f[:-3]\n",
    "                    #print(content)\n",
    "                    with open(fname,'w') as file_obj:\n",
    "                        file_obj.write(content)\n",
    "                print(f'converted {f}===>>{fname}')\n",
    "        except:\n",
    "            print(f'this file {f} is not a zip file ')"
   ]
  },
  {
   "cell_type": "code",
   "execution_count": null,
   "id": "311cc34d",
   "metadata": {},
   "outputs": [],
   "source": [
    "#this file 7du9.pdb.gz is not a zip file \n",
    "#this file 7dua.pdb.gz is not a zip file\n",
    "#\n",
    "#\n",
    "#"
   ]
  },
  {
   "cell_type": "code",
   "execution_count": null,
   "id": "2b0985e2",
   "metadata": {},
   "outputs": [],
   "source": [
    "######2. P11362 (FGFR1_HUMAN)\n",
    "######3. P21802 (FGFR2_HUMAN)\n",
    "#####4.P22607 (FGFR3_HUMAN)\n",
    "#####5.P22455 (FGFR4_HUMAN)\n",
    "###6.P17948 (VGFR1_HUMAN)\n",
    "####7 P36888 (FLT3_HUMAN)\n",
    "###8 P35916 (VGFR3_HUMAN)\n",
    "###9 P35968 (VGFR2_HUMAN)\n",
    "##10 P07333 (CSF1R_HUMAN)\n",
    "#11  P10721 (KIT_HUMAN)\n",
    "##12 P16234 (PGFRA_HUMAN)\n",
    "##13 P09619 (PGFRB_HUMAN)\n",
    "##14  P35590 (TIE1_HUMAN)\n",
    "###15 Q02763 (TIE2_HUMAN)"
   ]
  },
  {
   "cell_type": "code",
   "execution_count": null,
   "id": "3db22be5",
   "metadata": {},
   "outputs": [],
   "source": [
    "def write_list_to_file(list_name,file_name):\n",
    "    file = open(file_name,'x')\n",
    "    with open(file_name,'a') as f:\n",
    "        for i in list_name:\n",
    "            line = i + '\\n'\n",
    "            f.write(line)\n",
    "    return()"
   ]
  },
  {
   "cell_type": "code",
   "execution_count": null,
   "id": "1d8dd428",
   "metadata": {},
   "outputs": [],
   "source": [
    "write_list_to_file(RET_pdb_ids,'test.txt')"
   ]
  },
  {
   "cell_type": "code",
   "execution_count": null,
   "id": "56144c86",
   "metadata": {},
   "outputs": [],
   "source": [
    "def get_structures(base_name ,uniprot_id):\n",
    "    ## stage 1 make an empt list for .gz files that dont open\n",
    "    error_list =[]\n",
    "    ## stage 2: making queries using the uniprot id and then filter for structures with good resolution using query 2\n",
    "    query1 = rcsb.FieldQuery(\"rcsb_polymer_entity_container_identifiers.reference_sequence_identifiers.database_accession\",\n",
    "                             exact_match = uniprot_id)\n",
    "    query2 = rcsb.FieldQuery(\"reflns.d_resolution_high\", less=2.5)\n",
    "    final_query = query1 & query2 # combining queries\n",
    "    list_of_pdb_ids = base_name + 'pdb_ids' # this will be the list that will hold the results\n",
    "    list_of_pdb_ids = rcsb.search(final_query)\n",
    "    print(f'generated a list of pdb_Ids by searching using {uniprot_id} on the rcsb database')\n",
    "    ### next step is to build a http address for each result and download them from pdb renum\n",
    "    for id in list_of_pdb_ids:\n",
    "        print(f'preparing to download {id} structure as .gz file')\n",
    "        download_url_prefix = 'http://dunbrack3.fccc.edu/PDBrenum/output_PDB/'\n",
    "        download_url_suffix = '_renum.pdb.gz'\n",
    "        pdb_id = id.lower() # the pdb ids need to be in lower cases as it is used like that in pdbrenum\n",
    "        #print(pdb_id)\n",
    "        download_url = download_url_prefix + pdb_id + download_url_suffix\n",
    "        #print(download_url)\n",
    "        response = requests.get(download_url)\n",
    "        print(response.status_code) # 200 means all clear\n",
    "        fname = pdb_id + '.pdb.gz' # the downloaded file will be .gz not pdb !\n",
    "        ######### below is the loop for writing the .gz files\n",
    "        with open(fname, 'wb') as f:\n",
    "            f.write(response.content)\n",
    "        print(f'completed writing {fname}..')\n",
    "    ##########################\n",
    "    all = os.listdir()\n",
    "    ###### below is the loop for uncompressing the .gz files..\n",
    "    for f in all:\n",
    "        print(f'looping through {f}..')\n",
    "        if f.endswith('.pdb.gz'):\n",
    "            print(f'working to unzip {f}....')\n",
    "            try:\n",
    "                with gzip.open(f, 'rb') as ip:\n",
    "                    with io.TextIOWrapper(ip, encoding='utf-8') as decoder:\n",
    "                        # Let's read the content using read()\n",
    "                        content = decoder.read()\n",
    "                        #base = f[:-4]\n",
    "                        fname = f[:-3]\n",
    "                        #print(content)\n",
    "                        with open(fname,'w') as file_obj:\n",
    "                            file_obj.write(content)\n",
    "                            print(f'converted {f}===>>{fname}')\n",
    "            except:\n",
    "                print(f'this file {f} is not a zip file ') # note some .gz files from the site dont uncompress\n",
    "                error_list.append(f) # those file names will be captured here\n",
    "    ##################### next steps creating a folder with base name in cwd \n",
    "    ############# moving .pdb files to that folder, deleting the .gz files\n",
    "    home = os.getcwd()\n",
    "    all = os.listdir()\n",
    "    os.mkdir(base_name)\n",
    "    for f in all:\n",
    "        if f.endswith('.pdb'):\n",
    "            dest_folder = os.path.join(home,base_name,f)\n",
    "            source_folder = os.path.join(home,f)\n",
    "            shutil.move(source_folder,dest_folder)\n",
    "        elif f.endswith('pdb.gz'):\n",
    "            os.remove(f) \n",
    "    ######### below code is using the other function (write list to file) to write search results to file\n",
    "    output_fname = base_name + '.txt'\n",
    "    print(f'writing search results to file named {output_fname}')\n",
    "    write_list_to_file(list_of_pdb_ids,output_fname)\n",
    "    ### below code writer .err file\n",
    "    error_fname = base_name + '.err'\n",
    "    print(f'writing error ids to file named {error_fname}')\n",
    "    write_list_to_file(error_list,error_fname)\n",
    "    print(f'job for {base_name} with uniprot id : {uniprot_id} is complete')\n",
    "    return()"
   ]
  },
  {
   "cell_type": "code",
   "execution_count": null,
   "id": "82618232",
   "metadata": {},
   "outputs": [],
   "source": [
    "home = os.getcwd()\n",
    "all = os.listdir()\n",
    "folder = 'RET_HUMAN'\n",
    "#os.mkdir(folder)\n",
    "for f in all:\n",
    "    if f.endswith('.pdb'):\n",
    "        dest_folder = os.path.join(home,folder,f)\n",
    "        source_folder = os.path.join(home,f)\n",
    "        shutil.move(source_folder,dest_folder)\n",
    "    elif f.endswith('pdb.gz'):\n",
    "        os.remove(f)\n",
    "        \n",
    "        "
   ]
  },
  {
   "cell_type": "code",
   "execution_count": null,
   "id": "1938aaf1",
   "metadata": {},
   "outputs": [],
   "source": [
    "######2. P11362 (FGFR1_HUMAN)\n",
    "######3. P21802 (FGFR2_HUMAN)\n",
    "#####4.P22607 (FGFR3_HUMAN)\n",
    "#####5.P22455 (FGFR4_HUMAN)\n",
    "###6.P17948 (VGFR1_HUMAN)\n",
    "####7 P36888 (FLT3_HUMAN)\n",
    "###8 P35916 (VGFR3_HUMAN)\n",
    "###9 P35968 (VGFR2_HUMAN)\n",
    "##10 P07333 (CSF1R_HUMAN)\n",
    "#11  P10721 (KIT_HUMAN)\n",
    "##12 P16234 (PGFRA_HUMAN)\n",
    "##13 P09619 (PGFRB_HUMAN)\n",
    "##14  P35590 (TIE1_HUMAN)\n",
    "###15 Q02763 (TIE2_HUMAN)"
   ]
  },
  {
   "cell_type": "code",
   "execution_count": null,
   "id": "6e750696",
   "metadata": {},
   "outputs": [],
   "source": [
    "# RET: P07949 (RET_HUMAN)\n",
    "#P21802 (GFR2_HUMAN)\n",
    "#P22607 (FGFR3_HUMAN)----very few structures\n",
    "#P22455 (FGFR4_HUMAN)\n",
    "#P17948 (VGFR1_HUMAN)\n",
    "#7  ('FLT3_HUMAN','P36888')\n",
    "###8 P35916 ('VGFR3_HUMAN','P35916')-- no highres structures # only one structure with res of 4 A\n",
    "###9 P35968 ('VGFR2_HUMAN','P35968')--many structures\n",
    "##10 P07333 ('CSF1R_HUMAN','P07333')--many structures\n",
    "#11  P10721 ('KIT_HUMAN','P10721')----many structures\n",
    "##12 P16234 ('PGFRA_HUMAN','P16234')--few structures\n",
    "##13 P09619 ('PGFRB_HUMAN','P09619')--few structures\n",
    "##14  P35590 ('TIE1_HUMAN','P35590')--no structures--only one structure of fibronectin domain\n",
    "###15 Q02763 ('TIE2_HUMAN','Q02763')--few structures\n",
    "####### P00533 · EGFR_HUMAN\n",
    "####   Q9UM73 · ALK_HUMAN -- no structures that meet refinement criteria\n",
    "###  Q08345 · DDR1_HUMAN"
   ]
  },
  {
   "cell_type": "code",
   "execution_count": null,
   "id": "bca1b80d",
   "metadata": {},
   "outputs": [],
   "source": [
    "for index, tuple in enumerate(list_of_tuples):\n",
    "\telement_one = tuple[0]\n",
    "\telement_two = tuple[1]\n",
    "\tprint(element_one, element_two)"
   ]
  },
  {
   "cell_type": "code",
   "execution_count": null,
   "id": "3fdd8c4a",
   "metadata": {},
   "outputs": [],
   "source": [
    "vgfr1"
   ]
  },
  {
   "cell_type": "code",
   "execution_count": null,
   "id": "a8033852",
   "metadata": {},
   "outputs": [],
   "source": [
    "get_structures('TIE2_HUMAN','Q02763')"
   ]
  },
  {
   "cell_type": "code",
   "execution_count": null,
   "id": "d34a3184",
   "metadata": {},
   "outputs": [],
   "source": [
    "os.getcwd()"
   ]
  },
  {
   "cell_type": "code",
   "execution_count": null,
   "id": "ed3cdcf7",
   "metadata": {},
   "outputs": [],
   "source": [
    "os.listdir()"
   ]
  },
  {
   "cell_type": "code",
   "execution_count": null,
   "id": "d889f7ec",
   "metadata": {},
   "outputs": [],
   "source": [
    "os.chdir('pdb-structures')"
   ]
  },
  {
   "cell_type": "code",
   "execution_count": null,
   "id": "d7785133",
   "metadata": {},
   "outputs": [],
   "source": [
    "os.walk(\"./\")"
   ]
  },
  {
   "cell_type": "code",
   "execution_count": null,
   "id": "df54b1eb",
   "metadata": {},
   "outputs": [],
   "source": [
    "for cur_dir, sub_dirs,files in os.walk(\"./\"):\n",
    "    print(f\"#########processing {cur_dir}##############\")\n",
    "    print(\"sub-dirs\",sub_dirs)\n",
    "    print(\"files\",files)\n",
    "    print(len(files))"
   ]
  },
  {
   "cell_type": "markdown",
   "id": "aeab88d6",
   "metadata": {},
   "source": [
    "https://www.ebi.ac.uk/pdbe/pdbe-kb/proteins/Q02763/structures # use this link for checking pdb coverage for individual uniprot ids\n"
   ]
  },
  {
   "cell_type": "code",
   "execution_count": 9,
   "id": "ee43de06",
   "metadata": {},
   "outputs": [
    {
     "name": "stdout",
     "output_type": "stream",
     "text": [
      "1\n",
      "#1\n",
      "\"save \" + 1.pdb + #1\n",
      "2\n",
      "#2\n",
      "\"save \" + 2.pdb + #2\n",
      "3\n",
      "#3\n",
      "\"save \" + 3.pdb + #3\n",
      "4\n",
      "#4\n",
      "\"save \" + 4.pdb + #4\n",
      "5\n",
      "#5\n",
      "\"save \" + 5.pdb + #5\n",
      "6\n",
      "#6\n",
      "\"save \" + 6.pdb + #6\n",
      "7\n",
      "#7\n",
      "\"save \" + 7.pdb + #7\n",
      "8\n",
      "#8\n",
      "\"save \" + 8.pdb + #8\n",
      "9\n",
      "#9\n",
      "\"save \" + 9.pdb + #9\n",
      "10\n",
      "#10\n",
      "\"save \" + 10.pdb + #10\n",
      "11\n",
      "#11\n",
      "\"save \" + 11.pdb + #11\n",
      "12\n",
      "#12\n",
      "\"save \" + 12.pdb + #12\n"
     ]
    }
   ],
   "source": [
    "import os\n",
    "#from chimerax.core.commands import run as rc\n",
    "for i in range (1,13):\n",
    "    print(i)\n",
    "    modelname = '#' + str(i)\n",
    "    fname = str(i) + '.pdb'\n",
    "    print(modelname)\n",
    "    #rc(session,\"save \" + fname + modelname )\n",
    "    print(f'\"save \" + {fname} + {modelname}')"
   ]
  },
  {
   "cell_type": "code",
   "execution_count": 3,
   "id": "dc8adb89",
   "metadata": {},
   "outputs": [
    {
     "name": "stdout",
     "output_type": "stream",
     "text": [
      "hello\n"
     ]
    }
   ],
   "source": [
    "print('hello')"
   ]
  },
  {
   "cell_type": "code",
   "execution_count": null,
   "id": "3135074f",
   "metadata": {},
   "outputs": [],
   "source": []
  }
 ],
 "metadata": {
  "kernelspec": {
   "display_name": "Python 3 (ipykernel)",
   "language": "python",
   "name": "python3"
  },
  "language_info": {
   "codemirror_mode": {
    "name": "ipython",
    "version": 3
   },
   "file_extension": ".py",
   "mimetype": "text/x-python",
   "name": "python",
   "nbconvert_exporter": "python",
   "pygments_lexer": "ipython3",
   "version": "3.9.7"
  }
 },
 "nbformat": 4,
 "nbformat_minor": 5
}
